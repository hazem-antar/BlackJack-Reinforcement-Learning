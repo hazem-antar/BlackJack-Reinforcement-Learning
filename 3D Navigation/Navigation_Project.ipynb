{
 "cells": [
  {
   "cell_type": "markdown",
   "id": "a3a3e038",
   "metadata": {},
   "source": [
    "# Exploring Environment"
   ]
  },
  {
   "cell_type": "code",
   "execution_count": 1,
   "id": "f15ed4d2",
   "metadata": {},
   "outputs": [],
   "source": [
    "# Importing Essintial Libraries\n",
    "from unityagents import UnityEnvironment\n",
    "from collections import deque\n",
    "import torch\n",
    "import numpy as np\n",
    "import matplotlib.pyplot as plt\n",
    "%matplotlib inline"
   ]
  },
  {
   "cell_type": "code",
   "execution_count": 2,
   "id": "e4bbb0cc",
   "metadata": {},
   "outputs": [
    {
     "name": "stderr",
     "output_type": "stream",
     "text": [
      "INFO:unityagents:\n",
      "'Academy' started successfully!\n",
      "Unity Academy name: Academy\n",
      "        Number of Brains: 1\n",
      "        Number of External Brains : 1\n",
      "        Lesson number : 0\n",
      "        Reset Parameters :\n",
      "\t\t\n",
      "Unity brain name: BananaBrain\n",
      "        Number of Visual Observations (per agent): 0\n",
      "        Vector Observation space type: continuous\n",
      "        Vector Observation space size (per agent): 37\n",
      "        Number of stacked Vector Observation: 1\n",
      "        Vector Action space type: discrete\n",
      "        Vector Action space size (per agent): 4\n",
      "        Vector Action descriptions: , , , \n"
     ]
    }
   ],
   "source": [
    "# Instantiating Unity Environment\n",
    "env = UnityEnvironment(file_name=\"env/Banana.exe\")"
   ]
  },
  {
   "cell_type": "code",
   "execution_count": 3,
   "id": "962f316b",
   "metadata": {},
   "outputs": [],
   "source": [
    "# Get Default Brain\n",
    "brain_name = env.brain_names[0]\n",
    "brain = env.brains[brain_name]"
   ]
  },
  {
   "cell_type": "code",
   "execution_count": 4,
   "id": "b49ff4f0",
   "metadata": {},
   "outputs": [
    {
     "name": "stdout",
     "output_type": "stream",
     "text": [
      "Number of agents: 1\n",
      "Number of actions: 4\n",
      "States look like: [1.         0.         0.         0.         0.84408134 0.\n",
      " 0.         1.         0.         0.0748472  0.         1.\n",
      " 0.         0.         0.25755    1.         0.         0.\n",
      " 0.         0.74177343 0.         1.         0.         0.\n",
      " 0.25854847 0.         0.         1.         0.         0.09355672\n",
      " 0.         1.         0.         0.         0.31969345 0.\n",
      " 0.        ]\n",
      "States have length: 37\n"
     ]
    }
   ],
   "source": [
    "# Reset Environment\n",
    "env_info = env.reset(train_mode=True)[brain_name]\n",
    "\n",
    "# Examine Number of Agents \n",
    "print('Number of agents:', len(env_info.agents))\n",
    "\n",
    "# Examine Action Space \n",
    "action_size = brain.vector_action_space_size\n",
    "print('Number of actions:', action_size)\n",
    "\n",
    "# Examine State Space \n",
    "state = env_info.vector_observations[0]\n",
    "print('States look like:', state)\n",
    "state_size = len(state)\n",
    "print('States have length:', state_size)"
   ]
  },
  {
   "cell_type": "markdown",
   "id": "9484e6d0",
   "metadata": {},
   "source": [
    "# Trainning a Double DQN Agent"
   ]
  },
  {
   "cell_type": "code",
   "execution_count": 5,
   "id": "5141592b",
   "metadata": {},
   "outputs": [],
   "source": [
    "# Importing the DQN Agent Class\n",
    "from dqn_agent import Agent\n",
    "\n",
    "# Instantiating a DQN Agent Object\n",
    "agent = Agent(state_size=state_size, action_size=action_size, seed=0)"
   ]
  },
  {
   "cell_type": "code",
   "execution_count": null,
   "id": "8e8f2df0",
   "metadata": {},
   "outputs": [],
   "source": [
    "# Define the Training Function\n",
    "def train(n_episodes=2000, eps_start=1.0, eps_end=0.01, eps_decay=0.995):\n",
    "    \"\"\"Deep Q-Learning.\n",
    "    \n",
    "    Params\n",
    "    ======\n",
    "        n_episodes (int): maximum number of training episodes\n",
    "        eps_start (float): starting value of epsilon, for epsilon-greedy action selection\n",
    "        eps_end (float): minimum value of epsilon\n",
    "        eps_decay (float): multiplicative factor (per episode) for decreasing epsilon\n",
    "    \"\"\"\n",
    "    scores = []                        # list containing scores from each episode\n",
    "    scores_window = deque(maxlen=100)  # last 100 scores\n",
    "    max_score = -np.inf                # initialize max score\n",
    "    eps = eps_start                    # initialize epsilon\n",
    "    for i_episode in range(1, n_episodes+1):\n",
    "        env_info = env.reset(train_mode=True)[brain_name]  # reset the environment and collect information\n",
    "        state = env_info.vector_observations[0]            # get the current state\n",
    "        score = 0\n",
    "        while(True):\n",
    "            action = agent.act(state, eps)                 # decide action\n",
    "            env_info = env.step(action)[brain_name]        # apply action and collect information\n",
    "            next_state = env_info.vector_observations[0]   # get the next state\n",
    "            reward = env_info.rewards[0]                   # get the reward\n",
    "            done = env_info.local_done[0]                  # is episode finished?\n",
    "            agent.step(state, action, reward, next_state, done)   # train the agent model\n",
    "            state = next_state                             # update current state\n",
    "            score += reward                                # update total score\n",
    "            if done:\n",
    "                break \n",
    "        scores_window.append(score)       # save most recent score\n",
    "        scores.append(score)              # save most recent score\n",
    "        eps = max(eps_end, eps_decay*eps) # decrease epsilon\n",
    "        print('\\rEpisode {}\\tAverage Score: {:.2f}'.format(i_episode, np.mean(scores_window)), end=\"\")\n",
    "        if i_episode % 100 == 0:\n",
    "            print('\\rEpisode {}\\tAverage Score: {:.2f}'.format(i_episode, np.mean(scores_window)))\n",
    "        mean = np.mean(scores_window)\n",
    "        if mean >= 13.0 and mean > max_score:\n",
    "            max_score = mean\n",
    "            print('\\nEnvironment solved in {:d} episodes!\\tAverage Score: {:.2f}'.format(i_episode-100, np.mean(scores_window)))\n",
    "            torch.save(agent.qnetwork_local.state_dict(), 'checkpoint.pth')\n",
    "    return scores"
   ]
  },
  {
   "cell_type": "code",
   "execution_count": 6,
   "id": "5b794410",
   "metadata": {},
   "outputs": [
    {
     "name": "stdout",
     "output_type": "stream",
     "text": [
      "Episode 100\tAverage Score: 0.42\n",
      "Episode 200\tAverage Score: 2.64\n",
      "Episode 300\tAverage Score: 6.63\n",
      "Episode 400\tAverage Score: 10.03\n",
      "Episode 500\tAverage Score: 12.81\n",
      "Episode 505\tAverage Score: 13.04\n",
      "Environment solved in 405 episodes!\tAverage Score: 13.04\n",
      "Episode 506\tAverage Score: 13.10\n",
      "Environment solved in 406 episodes!\tAverage Score: 13.10\n",
      "Episode 510\tAverage Score: 13.14\n",
      "Environment solved in 410 episodes!\tAverage Score: 13.14\n",
      "Episode 514\tAverage Score: 13.19\n",
      "Environment solved in 414 episodes!\tAverage Score: 13.19\n",
      "Episode 515\tAverage Score: 13.22\n",
      "Environment solved in 415 episodes!\tAverage Score: 13.22\n",
      "Episode 516\tAverage Score: 13.27\n",
      "Environment solved in 416 episodes!\tAverage Score: 13.27\n",
      "Episode 517\tAverage Score: 13.37\n",
      "Environment solved in 417 episodes!\tAverage Score: 13.37\n",
      "Episode 518\tAverage Score: 13.41\n",
      "Environment solved in 418 episodes!\tAverage Score: 13.41\n",
      "Episode 524\tAverage Score: 13.47\n",
      "Environment solved in 424 episodes!\tAverage Score: 13.47\n",
      "Episode 526\tAverage Score: 13.48\n",
      "Environment solved in 426 episodes!\tAverage Score: 13.48\n",
      "Episode 528\tAverage Score: 13.50\n",
      "Environment solved in 428 episodes!\tAverage Score: 13.50\n",
      "Episode 534\tAverage Score: 13.54\n",
      "Environment solved in 434 episodes!\tAverage Score: 13.54\n",
      "Episode 547\tAverage Score: 13.61\n",
      "Environment solved in 447 episodes!\tAverage Score: 13.61\n",
      "Episode 548\tAverage Score: 13.73\n",
      "Environment solved in 448 episodes!\tAverage Score: 13.73\n",
      "Episode 550\tAverage Score: 13.79\n",
      "Environment solved in 450 episodes!\tAverage Score: 13.79\n",
      "Episode 600\tAverage Score: 13.45\n",
      "Episode 635\tAverage Score: 13.82\n",
      "Environment solved in 535 episodes!\tAverage Score: 13.82\n",
      "Episode 636\tAverage Score: 13.88\n",
      "Environment solved in 536 episodes!\tAverage Score: 13.88\n",
      "Episode 637\tAverage Score: 13.90\n",
      "Environment solved in 537 episodes!\tAverage Score: 13.90\n",
      "Episode 638\tAverage Score: 13.97\n",
      "Environment solved in 538 episodes!\tAverage Score: 13.97\n",
      "Episode 640\tAverage Score: 14.00\n",
      "Environment solved in 540 episodes!\tAverage Score: 14.00\n",
      "Episode 641\tAverage Score: 14.02\n",
      "Environment solved in 541 episodes!\tAverage Score: 14.02\n",
      "Episode 642\tAverage Score: 14.07\n",
      "Environment solved in 542 episodes!\tAverage Score: 14.07\n",
      "Episode 643\tAverage Score: 14.14\n",
      "Environment solved in 543 episodes!\tAverage Score: 14.14\n",
      "Episode 645\tAverage Score: 14.15\n",
      "Environment solved in 545 episodes!\tAverage Score: 14.15\n",
      "Episode 649\tAverage Score: 14.18\n",
      "Environment solved in 549 episodes!\tAverage Score: 14.18\n",
      "Episode 651\tAverage Score: 14.24\n",
      "Environment solved in 551 episodes!\tAverage Score: 14.24\n",
      "Episode 652\tAverage Score: 14.32\n",
      "Environment solved in 552 episodes!\tAverage Score: 14.32\n",
      "Episode 682\tAverage Score: 14.36\n",
      "Environment solved in 582 episodes!\tAverage Score: 14.36\n",
      "Episode 683\tAverage Score: 14.41\n",
      "Environment solved in 583 episodes!\tAverage Score: 14.41\n",
      "Episode 684\tAverage Score: 14.46\n",
      "Environment solved in 584 episodes!\tAverage Score: 14.46\n",
      "Episode 685\tAverage Score: 14.49\n",
      "Environment solved in 585 episodes!\tAverage Score: 14.49\n",
      "Episode 689\tAverage Score: 14.55\n",
      "Environment solved in 589 episodes!\tAverage Score: 14.55\n",
      "Episode 690\tAverage Score: 14.58\n",
      "Environment solved in 590 episodes!\tAverage Score: 14.58\n",
      "Episode 691\tAverage Score: 14.61\n",
      "Environment solved in 591 episodes!\tAverage Score: 14.61\n",
      "Episode 692\tAverage Score: 14.70\n",
      "Environment solved in 592 episodes!\tAverage Score: 14.70\n",
      "Episode 700\tAverage Score: 14.57\n",
      "Episode 769\tAverage Score: 14.73\n",
      "Environment solved in 669 episodes!\tAverage Score: 14.73\n",
      "Episode 770\tAverage Score: 14.77\n",
      "Environment solved in 670 episodes!\tAverage Score: 14.77\n",
      "Episode 771\tAverage Score: 14.94\n",
      "Environment solved in 671 episodes!\tAverage Score: 14.94\n",
      "Episode 772\tAverage Score: 14.98\n",
      "Environment solved in 672 episodes!\tAverage Score: 14.98\n",
      "Episode 773\tAverage Score: 15.06\n",
      "Environment solved in 673 episodes!\tAverage Score: 15.06\n",
      "Episode 800\tAverage Score: 15.00\n",
      "Episode 801\tAverage Score: 15.12\n",
      "Environment solved in 701 episodes!\tAverage Score: 15.12\n",
      "Episode 809\tAverage Score: 15.13\n",
      "Environment solved in 709 episodes!\tAverage Score: 15.13\n",
      "Episode 811\tAverage Score: 15.23\n",
      "Environment solved in 711 episodes!\tAverage Score: 15.23\n",
      "Episode 812\tAverage Score: 15.24\n",
      "Environment solved in 712 episodes!\tAverage Score: 15.24\n",
      "Episode 813\tAverage Score: 15.28\n",
      "Environment solved in 713 episodes!\tAverage Score: 15.28\n",
      "Episode 815\tAverage Score: 15.34\n",
      "Environment solved in 715 episodes!\tAverage Score: 15.34\n",
      "Episode 821\tAverage Score: 15.35\n",
      "Environment solved in 721 episodes!\tAverage Score: 15.35\n",
      "Episode 825\tAverage Score: 15.37\n",
      "Environment solved in 725 episodes!\tAverage Score: 15.37\n",
      "Episode 826\tAverage Score: 15.41\n",
      "Environment solved in 726 episodes!\tAverage Score: 15.41\n",
      "Episode 828\tAverage Score: 15.44\n",
      "Environment solved in 728 episodes!\tAverage Score: 15.44\n",
      "Episode 829\tAverage Score: 15.50\n",
      "Environment solved in 729 episodes!\tAverage Score: 15.50\n",
      "Episode 900\tAverage Score: 15.28\n",
      "Episode 946\tAverage Score: 15.59\n",
      "Environment solved in 846 episodes!\tAverage Score: 15.59\n",
      "Episode 1000\tAverage Score: 15.00\n",
      "Episode 1100\tAverage Score: 15.24\n",
      "Episode 1117\tAverage Score: 15.72\n",
      "Environment solved in 1017 episodes!\tAverage Score: 15.72\n",
      "Episode 1200\tAverage Score: 15.47\n",
      "Episode 1239\tAverage Score: 15.77\n",
      "Environment solved in 1139 episodes!\tAverage Score: 15.77\n",
      "Episode 1247\tAverage Score: 15.82\n",
      "Environment solved in 1147 episodes!\tAverage Score: 15.82\n",
      "Episode 1253\tAverage Score: 15.86\n",
      "Environment solved in 1153 episodes!\tAverage Score: 15.86\n",
      "Episode 1254\tAverage Score: 15.90\n",
      "Environment solved in 1154 episodes!\tAverage Score: 15.90\n",
      "Episode 1255\tAverage Score: 15.95\n",
      "Environment solved in 1155 episodes!\tAverage Score: 15.95\n",
      "Episode 1257\tAverage Score: 15.96\n",
      "Environment solved in 1157 episodes!\tAverage Score: 15.96\n",
      "Episode 1300\tAverage Score: 15.65\n",
      "Episode 1400\tAverage Score: 15.67\n",
      "Episode 1458\tAverage Score: 16.05\n",
      "Environment solved in 1358 episodes!\tAverage Score: 16.05\n",
      "Episode 1459\tAverage Score: 16.12\n",
      "Environment solved in 1359 episodes!\tAverage Score: 16.12\n",
      "Episode 1460\tAverage Score: 16.13\n",
      "Environment solved in 1360 episodes!\tAverage Score: 16.13\n",
      "Episode 1468\tAverage Score: 16.14\n",
      "Environment solved in 1368 episodes!\tAverage Score: 16.14\n",
      "Episode 1469\tAverage Score: 16.15\n",
      "Environment solved in 1369 episodes!\tAverage Score: 16.15\n",
      "Episode 1473\tAverage Score: 16.17\n",
      "Environment solved in 1373 episodes!\tAverage Score: 16.17\n",
      "Episode 1477\tAverage Score: 16.24\n",
      "Environment solved in 1377 episodes!\tAverage Score: 16.24\n",
      "Episode 1478\tAverage Score: 16.28\n",
      "Environment solved in 1378 episodes!\tAverage Score: 16.28\n",
      "Episode 1500\tAverage Score: 16.33\n",
      "\n",
      "Environment solved in 1400 episodes!\tAverage Score: 16.33\n",
      "Episode 1501\tAverage Score: 16.36\n",
      "Environment solved in 1401 episodes!\tAverage Score: 16.36\n",
      "Episode 1502\tAverage Score: 16.45\n",
      "Environment solved in 1402 episodes!\tAverage Score: 16.45\n",
      "Episode 1503\tAverage Score: 16.49\n",
      "Environment solved in 1403 episodes!\tAverage Score: 16.49\n",
      "Episode 1504\tAverage Score: 16.51\n",
      "Environment solved in 1404 episodes!\tAverage Score: 16.51\n",
      "Episode 1506\tAverage Score: 16.55\n",
      "Environment solved in 1406 episodes!\tAverage Score: 16.55\n",
      "Episode 1507\tAverage Score: 16.61\n",
      "Environment solved in 1407 episodes!\tAverage Score: 16.61\n",
      "Episode 1508\tAverage Score: 16.66\n",
      "Environment solved in 1408 episodes!\tAverage Score: 16.66\n",
      "Episode 1509\tAverage Score: 16.72\n",
      "Environment solved in 1409 episodes!\tAverage Score: 16.72\n",
      "Episode 1510\tAverage Score: 16.73\n",
      "Environment solved in 1410 episodes!\tAverage Score: 16.73\n",
      "Episode 1511\tAverage Score: 16.81\n",
      "Environment solved in 1411 episodes!\tAverage Score: 16.81\n",
      "Episode 1514\tAverage Score: 16.85\n",
      "Environment solved in 1414 episodes!\tAverage Score: 16.85\n",
      "Episode 1515\tAverage Score: 16.89\n",
      "Environment solved in 1415 episodes!\tAverage Score: 16.89\n",
      "Episode 1517\tAverage Score: 16.96\n",
      "Environment solved in 1417 episodes!\tAverage Score: 16.96\n",
      "Episode 1518\tAverage Score: 16.98\n",
      "Environment solved in 1418 episodes!\tAverage Score: 16.98\n",
      "Episode 1523\tAverage Score: 17.00\n",
      "Environment solved in 1423 episodes!\tAverage Score: 17.00\n",
      "Episode 1530\tAverage Score: 17.07\n",
      "Environment solved in 1430 episodes!\tAverage Score: 17.07\n",
      "Episode 1531\tAverage Score: 17.23\n",
      "Environment solved in 1431 episodes!\tAverage Score: 17.23\n",
      "Episode 1532\tAverage Score: 17.24\n",
      "Environment solved in 1432 episodes!\tAverage Score: 17.24\n"
     ]
    },
    {
     "name": "stdout",
     "output_type": "stream",
     "text": [
      "Episode 1600\tAverage Score: 15.57\n",
      "Episode 1700\tAverage Score: 14.79\n",
      "Episode 1800\tAverage Score: 15.01\n",
      "Episode 1900\tAverage Score: 14.89\n",
      "Episode 2000\tAverage Score: 14.27\n"
     ]
    },
    {
     "data": {
      "image/png": "[encoded data removed]",
      "text/plain": [
       "<Figure size 432x288 with 1 Axes>"
      ]
     },
     "metadata": {
      "needs_background": "light"
     },
     "output_type": "display_data"
    }
   ],
   "source": [
    "scores = train()       # Start trainning\n",
    "\n",
    "# plot the scores\n",
    "fig = plt.figure()\n",
    "ax = fig.add_subplot(111)\n",
    "plt.plot(np.arange(len(scores)), scores)\n",
    "plt.ylabel('Score')\n",
    "plt.xlabel('Episode #')\n",
    "plt.show()"
   ]
  },
  {
   "cell_type": "code",
   "execution_count": 7,
   "id": "12171e60",
   "metadata": {},
   "outputs": [
    {
     "data": {
      "text/plain": [
       "<All keys matched successfully>"
      ]
     },
     "execution_count": 7,
     "metadata": {},
     "output_type": "execute_result"
    }
   ],
   "source": [
    "# Restore best model\n",
    "agent.qnetwork_local.load_state_dict(torch.load('checkpoint.pth'))"
   ]
  },
  {
   "cell_type": "code",
   "execution_count": 9,
   "id": "a4314fc1",
   "metadata": {},
   "outputs": [
    {
     "name": "stdout",
     "output_type": "stream",
     "text": [
      "Score: 16.0\n"
     ]
    }
   ],
   "source": [
    "# Simulate the best model on Unity Environment\n",
    "env_info = env.reset(train_mode=False)[brain_name] # reset the environment\n",
    "state = env_info.vector_observations[0]            # get the current state\n",
    "score = 0                                          # initialize the score\n",
    "while True:\n",
    "    action = agent.act(state)\n",
    "    env_info = env.step(action)[brain_name] \n",
    "    next_state = env_info.vector_observations[0]   # get the next state\n",
    "    reward = env_info.rewards[0]                   # get the reward\n",
    "    done = env_info.local_done[0]                # see if episode has finished\n",
    "    score += reward                                # update the score\n",
    "    state = next_state                             # roll over the state to next time step\n",
    "    if done:                                       # exit loop if episode finished\n",
    "        break\n",
    "    \n",
    "print(\"Score: {}\".format(score))"
   ]
  },
  {
   "cell_type": "code",
   "execution_count": 10,
   "id": "4c29f469",
   "metadata": {},
   "outputs": [],
   "source": [
    "# Close environment\n",
    "env.close()"
   ]
  }
 ],
 "metadata": {
  "kernelspec": {
   "display_name": "Python 3",
   "language": "python",
   "name": "python3"
  },
  "language_info": {
   "codemirror_mode": {
    "name": "ipython",
    "version": 3
   },
   "file_extension": ".py",
   "mimetype": "text/x-python",
   "name": "python",
   "nbconvert_exporter": "python",
   "pygments_lexer": "ipython3",
   "version": "3.6.13"
  }
 },
 "nbformat": 4,
 "nbformat_minor": 5
}
